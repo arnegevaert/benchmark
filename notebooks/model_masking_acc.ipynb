{
 "cells": [
  {
   "cell_type": "code",
   "execution_count": null,
   "metadata": {},
   "outputs": [],
   "source": [
    "# This block allows us to import from the benchmark folder,\n",
    "# as if it was a package installed using pip\n",
    "import os\n",
    "import sys\n",
    "module_path = os.path.abspath(os.path.join('..'))\n",
    "if module_path not in sys.path:\n",
    "    sys.path.append(module_path)"
   ]
  },
  {
   "cell_type": "code",
   "execution_count": 2,
   "metadata": {},
   "outputs": [],
   "source": [
    "from util import datasets, methods\n",
    "from benchmark.masking.model_masking import MaskedNeuralNetwork, MaskedDataset, masking_accuracy\n",
    "from benchmark import train_model, test_model\n",
    "import pickle as pkl\n",
    "from os import path\n",
    "import torch.nn as nn\n",
    "import torch.nn.functional as F\n",
    "import torch"
   ]
  },
  {
   "cell_type": "code",
   "execution_count": 5,
   "metadata": {},
   "outputs": [],
   "source": [
    "dataset_name = \"CIFAR10\"\n",
    "batch_size = 64\n",
    "n_batches = 16\n",
    "median_value = -.788235  # If set to None, median value will be calculated\n",
    "model_loc = \"models/CIFAR10_masked_cnn.pkl\"\n",
    "data_root = \"../data\"\n",
    "load_model = True  # If False, model will be trained on masked data\n",
    "sample_shape = (3, 32, 32)\n",
    "normalize_attrs = True\n",
    "aggregation_fn = \"avg\""
   ]
  },
  {
   "cell_type": "code",
   "execution_count": 6,
   "metadata": {},
   "outputs": [
    {
     "name": "stdout",
     "output_type": "stream",
     "text": [
      "Median of minima is -0.788235\n"
     ]
    }
   ],
   "source": [
    "if dataset_name == \"CIFAR10\":\n",
    "    dataset = datasets.Cifar(batch_size=batch_size, data_location=path.join(data_root, \"CIFAR10\"),\n",
    "                             download=False, shuffle=False, version=\"cifar10\")\n",
    "    masked_dataset = MaskedDataset(dataset.get_dataloader(train=True), dataset.get_dataloader(train=False), radius=5, mask_value=dataset.mask_value, med_of_min=median_value)"
   ]
  },
  {
   "cell_type": "code",
   "execution_count": 7,
   "metadata": {},
   "outputs": [],
   "source": [
    "class Net(nn.Module):\n",
    "    def __init__(self):\n",
    "        super(Net, self).__init__()\n",
    "        self.conv1 = nn.Conv2d(3, 32, 3, 1)\n",
    "        self.conv2 = nn.Conv2d(32, 64, 3, 1)\n",
    "        self.dropout1 = nn.Dropout2d(0.25)\n",
    "        self.dropout2 = nn.Dropout2d(0.5)\n",
    "        self.dropout3 = nn.Dropout2d(0.5)\n",
    "        self.fc1 = nn.Linear(12544, 1024)\n",
    "        self.fc2 = nn.Linear(1024, 128)\n",
    "        self.fc3 = nn.Linear(128, 2)\n",
    "\n",
    "    def get_logits(self, x):\n",
    "        relu = nn.ReLU()\n",
    "        x = self.conv1(x)\n",
    "        x = relu(x)\n",
    "        x = self.conv2(x)\n",
    "        x = F.max_pool2d(x, 2)\n",
    "        x = self.dropout1(x)\n",
    "        x = torch.flatten(x, 1)\n",
    "        x = self.fc1(x)\n",
    "        x = relu(x)\n",
    "        x = self.dropout2(x)\n",
    "        x = self.fc2(x)\n",
    "        x = relu(x)\n",
    "        x = self.dropout3(x)\n",
    "        return self.fc3(x)\n",
    "\n",
    "    def forward(self, x):\n",
    "        if x.dtype != torch.float32:\n",
    "            x = x.float()\n",
    "        logits = self.get_logits(x)\n",
    "        return F.softmax(logits, dim=1)"
   ]
  },
  {
   "cell_type": "code",
   "execution_count": 8,
   "metadata": {
    "pycharm": {
     "is_executing": true
    }
   },
   "outputs": [
    {
     "name": "stdout",
     "output_type": "stream",
     "text": [
      "\n",
      "Test set: Average loss: 0.3737, Accuracy: 9345/9984 (94%)\n",
      "Positive samples: 5038/9984 (50%)\n",
      "\n"
     ]
    },
    {
     "data": {
      "text/plain": [
       "MaskedNeuralNetwork(\n",
       "  (net): Net(\n",
       "    (conv1): Conv2d(3, 32, kernel_size=(3, 3), stride=(1, 1))\n",
       "    (conv2): Conv2d(32, 64, kernel_size=(3, 3), stride=(1, 1))\n",
       "    (dropout1): Dropout2d(p=0.25, inplace=False)\n",
       "    (dropout2): Dropout2d(p=0.5, inplace=False)\n",
       "    (dropout3): Dropout2d(p=0.5, inplace=False)\n",
       "    (fc1): Linear(in_features=12544, out_features=1024, bias=True)\n",
       "    (fc2): Linear(in_features=1024, out_features=128, bias=True)\n",
       "    (fc3): Linear(in_features=128, out_features=2, bias=True)\n",
       "  )\n",
       "  (masked_input_layer): MaskedInputLayer()\n",
       ")"
      ]
     },
     "execution_count": 8,
     "metadata": {},
     "output_type": "execute_result"
    }
   ],
   "source": [
    "if load_model:\n",
    "    with open(path.join(data_root, model_loc), \"rb\") as f:\n",
    "        model = pkl.load(f)\n",
    "    test_model(model, masked_dataset)\n",
    "else:\n",
    "    model = MaskedNeuralNetwork(sample_shape=sample_shape, mask_radius=5, mask_value=0., net=Net())\n",
    "    train_model(model, masked_dataset, lr=1.0, gamma=0.7, epochs=2)\n",
    "    with open(path.join(data_root, model_loc), \"wb\") as f:\n",
    "        pkl.dump(model, f)\n",
    "model.eval()"
   ]
  },
  {
   "cell_type": "code",
   "execution_count": 7,
   "metadata": {},
   "outputs": [],
   "source": [
    "kwargs = {\n",
    "    \"normalize\": normalize_attrs,\n",
    "    \"aggregation_fn\": aggregation_fn\n",
    "}\n",
    "\n",
    "attribution_methods = {\n",
    "    \"GuidedGradCAM\": methods.GuidedGradCAM(model, model.get_last_conv_layer(), **kwargs),\n",
    "    \"Gradient\": methods.Gradient(model, **kwargs),\n",
    "    \"InputXGradient\": methods.InputXGradient(model, **kwargs),\n",
    "    \"IntegratedGradients\": methods.IntegratedGradients(model, **kwargs),\n",
    "    \"GuidedBackprop\": methods.GuidedBackprop(model, **kwargs),\n",
    "    \"Deconvolution\": methods.Deconvolution(model, **kwargs),\n",
    "    \"Random\": methods.Random(**kwargs)\n",
    "}"
   ]
  },
  {
   "cell_type": "code",
   "execution_count": 8,
   "metadata": {},
   "outputs": [
    {
     "name": "stdout",
     "output_type": "stream",
     "text": [
      "Batch 1...\n",
      "Warning: completely 0 attributions returned for sample.\n"
     ]
    },
    {
     "name": "stderr",
     "output_type": "stream",
     "text": [
      "/home/arne/Documents/PhD/projects/benchmark/venv/lib/python3.6/site-packages/captum/attr/_utils/gradient.py:33: UserWarning: Input Tensor 0 did not already require gradients, required_grads has been set automatically.\n",
      "  \"required_grads has been set automatically.\" % index\n"
     ]
    },
    {
     "name": "stdout",
     "output_type": "stream",
     "text": [
      "Warning: completely 0 attributions returned for sample.\n"
     ]
    },
    {
     "name": "stderr",
     "output_type": "stream",
     "text": [
      "/home/arne/Documents/PhD/projects/benchmark/venv/lib/python3.6/site-packages/captum/attr/_core/guided_backprop_deconvnet.py:56: UserWarning: Setting backward hooks on ReLU activations.The hooks will be removed after the attribution is finished\n",
      "  \"Setting backward hooks on ReLU activations.\"\n"
     ]
    },
    {
     "name": "stdout",
     "output_type": "stream",
     "text": [
      "Warning: completely 0 attributions returned for sample.\n",
      "Warning: completely 0 attributions returned for sample.\n",
      "Batch 2...\n",
      "Warning: completely 0 attributions returned for sample.\n",
      "Warning: completely 0 attributions returned for sample.\n",
      "Warning: completely 0 attributions returned for sample.\n",
      "Warning: completely 0 attributions returned for sample.\n",
      "Warning: completely 0 attributions returned for sample.\n",
      "Batch 3...\n",
      "Warning: completely 0 attributions returned for sample.\n",
      "Warning: completely 0 attributions returned for sample.\n",
      "Warning: completely 0 attributions returned for sample.\n",
      "Warning: completely 0 attributions returned for sample.\n",
      "Warning: completely 0 attributions returned for sample.\n",
      "Batch 4...\n",
      "Warning: completely 0 attributions returned for sample.\n",
      "Warning: completely 0 attributions returned for sample.\n",
      "Warning: completely 0 attributions returned for sample.\n",
      "Warning: completely 0 attributions returned for sample.\n",
      "Batch 5...\n",
      "Warning: completely 0 attributions returned for sample.\n",
      "Warning: completely 0 attributions returned for sample.\n",
      "Warning: completely 0 attributions returned for sample.\n",
      "Warning: completely 0 attributions returned for sample.\n",
      "Warning: completely 0 attributions returned for sample.\n",
      "Batch 6...\n",
      "Batch 7...\n",
      "Warning: completely 0 attributions returned for sample.\n",
      "Warning: completely 0 attributions returned for sample.\n",
      "Warning: completely 0 attributions returned for sample.\n",
      "Warning: completely 0 attributions returned for sample.\n",
      "Warning: completely 0 attributions returned for sample.\n",
      "Batch 8...\n",
      "Warning: completely 0 attributions returned for sample.\n",
      "Warning: completely 0 attributions returned for sample.\n",
      "Warning: completely 0 attributions returned for sample.\n",
      "Warning: completely 0 attributions returned for sample.\n",
      "Warning: completely 0 attributions returned for sample.\n",
      "Batch 9...\n",
      "Batch 10...\n",
      "Warning: completely 0 attributions returned for sample.\n",
      "Warning: completely 0 attributions returned for sample.\n",
      "Warning: completely 0 attributions returned for sample.\n",
      "Warning: completely 0 attributions returned for sample.\n",
      "Warning: completely 0 attributions returned for sample.\n",
      "Batch 11...\n",
      "Warning: completely 0 attributions returned for sample.\n",
      "Warning: completely 0 attributions returned for sample.\n",
      "Warning: completely 0 attributions returned for sample.\n",
      "Warning: completely 0 attributions returned for sample.\n",
      "Batch 12...\n",
      "Warning: completely 0 attributions returned for sample.\n",
      "Warning: completely 0 attributions returned for sample.\n",
      "Warning: completely 0 attributions returned for sample.\n",
      "Warning: completely 0 attributions returned for sample.\n",
      "Warning: completely 0 attributions returned for sample.\n",
      "Batch 13...\n",
      "Warning: completely 0 attributions returned for sample.\n",
      "Warning: completely 0 attributions returned for sample.\n",
      "Warning: completely 0 attributions returned for sample.\n",
      "Warning: completely 0 attributions returned for sample.\n",
      "Warning: completely 0 attributions returned for sample.\n",
      "Batch 14...\n",
      "Warning: completely 0 attributions returned for sample.\n",
      "Warning: completely 0 attributions returned for sample.\n",
      "Warning: completely 0 attributions returned for sample.\n",
      "Warning: completely 0 attributions returned for sample.\n",
      "Warning: completely 0 attributions returned for sample.\n",
      "Batch 15...\n",
      "Warning: completely 0 attributions returned for sample.\n",
      "Warning: completely 0 attributions returned for sample.\n",
      "Warning: completely 0 attributions returned for sample.\n",
      "Warning: completely 0 attributions returned for sample.\n",
      "Warning: completely 0 attributions returned for sample.\n",
      "Batch 16...\n",
      "Warning: completely 0 attributions returned for sample.\n",
      "Warning: completely 0 attributions returned for sample.\n",
      "Warning: completely 0 attributions returned for sample.\n",
      "Warning: completely 0 attributions returned for sample.\n",
      "Warning: completely 0 attributions returned for sample.\n"
     ]
    }
   ],
   "source": [
    "results = masking_accuracy(masked_dataset, attribution_methods, n_batches)"
   ]
  },
  {
   "cell_type": "code",
   "execution_count": 9,
   "metadata": {},
   "outputs": [
    {
     "data": {
      "text/plain": [
       "<matplotlib.axes._subplots.AxesSubplot at 0x7fdb00076550>"
      ]
     },
     "execution_count": 9,
     "metadata": {},
     "output_type": "execute_result"
    },
    {
     "data": {
      "image/png": "[encoded data removed]",
      "text/plain": [
       "<Figure size 720x360 with 1 Axes>"
      ]
     },
     "metadata": {
      "needs_background": "light"
     },
     "output_type": "display_data"
    }
   ],
   "source": [
    "import pandas as pd\n",
    "import seaborn as sns\n",
    "import matplotlib.pyplot as plt\n",
    "plt.figure(figsize=(10, 5))\n",
    "sns.boxplot(data=pd.DataFrame.from_dict(results))"
   ]
  },
  {
   "cell_type": "code",
   "execution_count": null,
   "metadata": {},
   "outputs": [],
   "source": []
  }
 ],
 "metadata": {
  "kernelspec": {
   "display_name": "Python 3",
   "language": "python",
   "name": "python3"
  },
  "language_info": {
   "codemirror_mode": {
    "name": "ipython",
    "version": 3
   },
   "file_extension": ".py",
   "mimetype": "text/x-python",
   "name": "python",
   "nbconvert_exporter": "python",
   "pygments_lexer": "ipython3",
   "version": "3.6.9"
  }
 },
 "nbformat": 4,
 "nbformat_minor": 4
}