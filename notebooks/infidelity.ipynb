{
 "cells": [
  {
   "cell_type": "code",
   "execution_count": 1,
   "metadata": {},
   "outputs": [],
   "source": [
    "# This block allows us to import from the benchmark folder,\n",
    "# as if it was a package installed using pip\n",
    "import os\n",
    "import sys\n",
    "module_path = os.path.abspath(os.path.join('..'))\n",
    "if module_path not in sys.path:\n",
    "    sys.path.append(module_path)"
   ]
  },
  {
   "cell_type": "code",
   "execution_count": 2,
   "metadata": {},
   "outputs": [],
   "source": [
    "from attrbench import datasets, attribution, models\n",
    "from attrbench.evaluation.infidelity import infidelity\n",
    "import itertools\n",
    "from os import path\n",
    "import pandas as pd\n",
    "import matplotlib as mpl\n",
    "mpl.rcParams['figure.dpi'] = 150"
   ]
  },
  {
   "cell_type": "code",
   "execution_count": 3,
   "metadata": {},
   "outputs": [],
   "source": [
    "# General parameters\n",
    "batch_size = 16\n",
    "n_batches = 4\n",
    "n_perturbations = 16\n",
    "data_root = \"../data\"\n",
    "use_logits = True\n",
    "dataset_name = \"MNIST\"\n",
    "normalize_attrs = True\n",
    "aggregation_fn = \"avg\"\n",
    "device = \"cuda\""
   ]
  },
  {
   "cell_type": "code",
   "execution_count": 4,
   "metadata": {},
   "outputs": [],
   "source": [
    "# CIFAR10 parameters\n",
    "if dataset_name == \"CIFAR10\":\n",
    "    dataset = datasets.Cifar(batch_size=batch_size, data_location=path.join(data_root, \"CIFAR10\"), download=False, shuffle=False, version=\"cifar10\")\n",
    "    model = models.Resnet(version=\"resnet18\", output_logits=use_logits, num_classes=10, params_loc=path.join(data_root, \"models/CIFAR10/resnet18.pth\"))\n",
    "    model.eval()\n",
    "    model.to(device)"
   ]
  },
  {
   "cell_type": "code",
   "execution_count": 5,
   "metadata": {},
   "outputs": [],
   "source": [
    "# MNIST parameters\n",
    "if dataset_name == \"MNIST\":\n",
    "    dataset = datasets.MNIST(batch_size=batch_size, data_location=path.join(data_root, \"MNIST\"), download=False, shuffle=False)\n",
    "    model = models.BasicCNN(params_loc=path.join(data_root, \"models/MNIST/cnn.pt\"), output_logits=use_logits, num_classes =10)\n",
    "    model.eval()\n",
    "    model.to(device)"
   ]
  },
  {
   "cell_type": "code",
   "execution_count": 6,
   "metadata": {},
   "outputs": [],
   "source": [
    "kwargs = {\n",
    "    \"normalize\": normalize_attrs,\n",
    "    \"aggregation_fn\": aggregation_fn\n",
    "\n",
    "}\n",
    "\n",
    "attribution_methods = {\n",
    "    \"GuidedGradCAM\": attribution.GuidedGradCAM(model, model.get_last_conv_layer(), **kwargs),\n",
    "    \"Gradient\": attribution.Gradient(model, **kwargs),\n",
    "    \"InputXGradient\": attribution.InputXGradient(model, **kwargs),\n",
    "    \"IntegratedGradients\": attribution.IntegratedGradients(model, **kwargs),\n",
    "    \"GuidedBackprop\": attribution.GuidedBackprop(model, **kwargs),\n",
    "    \"Deconvolution\": attribution.Deconvolution(model, **kwargs),\n",
    "}"
   ]
  },
  {
   "cell_type": "code",
   "execution_count": 7,
   "metadata": {},
   "outputs": [
    {
     "name": "stderr",
     "output_type": "stream",
     "text": [
      "0it [00:00, ?it/s]/home/arne/Documents/PhD/projects/benchmark/venv/lib/python3.7/site-packages/captum/attr/_utils/gradient.py:33: UserWarning: Input Tensor 0 did not already require gradients, required_grads has been set automatically.\n",
      "  \"required_grads has been set automatically.\" % index\n",
      "/home/arne/Documents/PhD/projects/benchmark/venv/lib/python3.7/site-packages/captum/attr/_core/guided_backprop_deconvnet.py:56: UserWarning: Setting backward hooks on ReLU activations.The hooks will be removed after the attribution is finished\n",
      "  \"Setting backward hooks on ReLU activations.\"\n",
      "4it [00:00,  9.20it/s]\n"
     ]
    }
   ],
   "source": [
    "result = infidelity(data=itertools.islice(dataset.get_dataloader(train=False), n_batches), model=model,\n",
    "                    methods=attribution_methods, n_perturbations=n_perturbations, pixel_level=normalize_attrs,\n",
    "                    device=device)"
   ]
  },
  {
   "cell_type": "code",
   "execution_count": 13,
   "metadata": {
    "pycharm": {
     "name": "#%%\n"
    }
   },
   "outputs": [],
   "source": [
    "result_df = pd.DataFrame.from_dict(\n",
    "    {m_name: pd.Series(data=result[m_name]) for m_name in attribution_methods}\n",
    ").stack().reset_index()\n",
    "result_df.columns = [\"sample\", \"method\", \"infidelity\"]"
   ]
  },
  {
   "cell_type": "code",
   "execution_count": 14,
   "metadata": {
    "collapsed": false,
    "jupyter": {
     "outputs_hidden": false
    },
    "pycharm": {
     "name": "#%%\n"
    }
   },
   "outputs": [
    {
     "data": {
      "text/html": [
       "<div>\n",
       "<style scoped>\n",
       "    .dataframe tbody tr th:only-of-type {\n",
       "        vertical-align: middle;\n",
       "    }\n",
       "\n",
       "    .dataframe tbody tr th {\n",
       "        vertical-align: top;\n",
       "    }\n",
       "\n",
       "    .dataframe thead th {\n",
       "        text-align: right;\n",
       "    }\n",
       "</style>\n",
       "<table border=\"1\" class=\"dataframe\">\n",
       "  <thead>\n",
       "    <tr style=\"text-align: right;\">\n",
       "      <th></th>\n",
       "      <th>sample</th>\n",
       "      <th>method</th>\n",
       "      <th>infidelity</th>\n",
       "    </tr>\n",
       "  </thead>\n",
       "  <tbody>\n",
       "    <tr>\n",
       "      <th>0</th>\n",
       "      <td>0</td>\n",
       "      <td>GuidedGradCAM</td>\n",
       "      <td>2.072929</td>\n",
       "    </tr>\n",
       "    <tr>\n",
       "      <th>1</th>\n",
       "      <td>0</td>\n",
       "      <td>Gradient</td>\n",
       "      <td>0.321265</td>\n",
       "    </tr>\n",
       "    <tr>\n",
       "      <th>2</th>\n",
       "      <td>0</td>\n",
       "      <td>InputXGradient</td>\n",
       "      <td>2.383844</td>\n",
       "    </tr>\n",
       "    <tr>\n",
       "      <th>3</th>\n",
       "      <td>0</td>\n",
       "      <td>IntegratedGradients</td>\n",
       "      <td>2.132578</td>\n",
       "    </tr>\n",
       "    <tr>\n",
       "      <th>4</th>\n",
       "      <td>0</td>\n",
       "      <td>GuidedBackprop</td>\n",
       "      <td>3.505853</td>\n",
       "    </tr>\n",
       "    <tr>\n",
       "      <th>...</th>\n",
       "      <td>...</td>\n",
       "      <td>...</td>\n",
       "      <td>...</td>\n",
       "    </tr>\n",
       "    <tr>\n",
       "      <th>6139</th>\n",
       "      <td>1023</td>\n",
       "      <td>Gradient</td>\n",
       "      <td>0.079927</td>\n",
       "    </tr>\n",
       "    <tr>\n",
       "      <th>6140</th>\n",
       "      <td>1023</td>\n",
       "      <td>InputXGradient</td>\n",
       "      <td>0.570859</td>\n",
       "    </tr>\n",
       "    <tr>\n",
       "      <th>6141</th>\n",
       "      <td>1023</td>\n",
       "      <td>IntegratedGradients</td>\n",
       "      <td>0.739367</td>\n",
       "    </tr>\n",
       "    <tr>\n",
       "      <th>6142</th>\n",
       "      <td>1023</td>\n",
       "      <td>GuidedBackprop</td>\n",
       "      <td>0.009831</td>\n",
       "    </tr>\n",
       "    <tr>\n",
       "      <th>6143</th>\n",
       "      <td>1023</td>\n",
       "      <td>Deconvolution</td>\n",
       "      <td>0.009831</td>\n",
       "    </tr>\n",
       "  </tbody>\n",
       "</table>\n",
       "<p>6144 rows × 3 columns</p>\n",
       "</div>"
      ],
      "text/plain": [
       "      sample               method  infidelity\n",
       "0          0        GuidedGradCAM    2.072929\n",
       "1          0             Gradient    0.321265\n",
       "2          0       InputXGradient    2.383844\n",
       "3          0  IntegratedGradients    2.132578\n",
       "4          0       GuidedBackprop    3.505853\n",
       "...      ...                  ...         ...\n",
       "6139    1023             Gradient    0.079927\n",
       "6140    1023       InputXGradient    0.570859\n",
       "6141    1023  IntegratedGradients    0.739367\n",
       "6142    1023       GuidedBackprop    0.009831\n",
       "6143    1023        Deconvolution    0.009831\n",
       "\n",
       "[6144 rows x 3 columns]"
      ]
     },
     "execution_count": 14,
     "metadata": {},
     "output_type": "execute_result"
    }
   ],
   "source": [
    "result_df"
   ]
  },
  {
   "cell_type": "code",
   "execution_count": 16,
   "metadata": {
    "collapsed": false,
    "jupyter": {
     "outputs_hidden": false
    },
    "pycharm": {
     "name": "#%%\n"
    }
   },
   "outputs": [
    {
     "data": {
      "text/plain": [
       "<matplotlib.axes._subplots.AxesSubplot at 0x7ff296cbfbd0>"
      ]
     },
     "execution_count": 16,
     "metadata": {},
     "output_type": "execute_result"
    },
    {
     "data": {
      "image/png": "[encoded data removed]",
      "text/plain": [
       "<Figure size 900x600 with 1 Axes>"
      ]
     },
     "metadata": {
      "needs_background": "light"
     },
     "output_type": "display_data"
    }
   ],
   "source": [
    "import seaborn as sns\n",
    "sns.boxplot(x=\"method\", y=\"infidelity\", data=result_df)"
   ]
  },
  {
   "cell_type": "code",
   "execution_count": null,
   "metadata": {},
   "outputs": [],
   "source": []
  }
 ],
 "metadata": {
  "kernelspec": {
   "display_name": "Python 3",
   "language": "python",
   "name": "python3"
  },
  "language_info": {
   "codemirror_mode": {
    "name": "ipython",
    "version": 3
   },
   "file_extension": ".py",
   "mimetype": "text/x-python",
   "name": "python",
   "nbconvert_exporter": "python",
   "pygments_lexer": "ipython3",
   "version": "3.7.5"
  },
  "pycharm": {
   "stem_cell": {
    "cell_type": "raw",
    "metadata": {
     "collapsed": false
    },
    "source": []
   }
  }
 },
 "nbformat": 4,
 "nbformat_minor": 4
}
