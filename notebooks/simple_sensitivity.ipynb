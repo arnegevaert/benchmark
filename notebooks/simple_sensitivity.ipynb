{
 "cells": [
  {
   "cell_type": "code",
   "execution_count": 1,
   "metadata": {},
   "outputs": [],
   "source": [
    "# This block allows us to import from the benchmark folder,\n",
    "# as if it was a package installed using pip\n",
    "import os\n",
    "import sys\n",
    "module_path = os.path.abspath(os.path.join('..'))\n",
    "if module_path not in sys.path:\n",
    "    sys.path.append(module_path)"
   ]
  },
  {
   "cell_type": "code",
   "execution_count": 2,
   "metadata": {},
   "outputs": [],
   "source": [
    "from util import datasets, methods, models\n",
    "from benchmark.simple_sensitivity import simple_sensitivity\n",
    "import itertools\n",
    "import numpy as np\n",
    "import pandas as pd\n",
    "import seaborn as sns\n",
    "import matplotlib.pyplot as plt\n",
    "from os import path\n",
    "import matplotlib as mpl\n",
    "mpl.rcParams['figure.dpi'] = 150"
   ]
  },
  {
   "cell_type": "code",
   "execution_count": 3,
   "metadata": {},
   "outputs": [],
   "source": [
    "# General parameters\n",
    "dataset_name = \"MNIST\"\n",
    "batch_size = 64\n",
    "n_batches = 16\n",
    "normalize_attrs = False\n",
    "use_logits = True\n",
    "data_root = \"../data\""
   ]
  },
  {
   "cell_type": "code",
   "execution_count": 4,
   "metadata": {},
   "outputs": [],
   "source": [
    "# CIFAR10 parameters\n",
    "if dataset_name == \"CIFAR10\":\n",
    "    mask_range = list(range(1, 1000, 100))\n",
    "    dataset = datasets.Cifar(batch_size=batch_size, data_location=path.join(data_root, \"CIFAR10\"), download=False, shuffle=False, version=\"cifar10\")\n",
    "    model = models.CifarResnet(version=\"resnet32\", params_loc=path.join(data_root, \"models/cifar10_resnet32.pth\"), num_classes=10, output_logits=use_logits)\n",
    "    model.eval()"
   ]
  },
  {
   "cell_type": "code",
   "execution_count": 5,
   "metadata": {},
   "outputs": [],
   "source": [
    "# MNIST parameters\n",
    "if dataset_name == \"MNIST\":\n",
    "    mask_range = list(range(1, 128, 10))\n",
    "    dataset = datasets.MNIST(batch_size=batch_size, data_location=path.join(data_root, \"MNIST\"), download=False, shuffle=False)\n",
    "    model = models.MNISTCNN(params_loc=path.join(data_root, \"models/MNIST_cnn.pth\"), output_logits=use_logits)\n",
    "    model.eval()"
   ]
  },
  {
   "cell_type": "code",
   "execution_count": 6,
   "metadata": {},
   "outputs": [],
   "source": [
    "attribution_methods = {\n",
    "    #\"GuidedGradCAM\": methods.GuidedGradCAM(model, model.get_last_conv_layer(), normalize=normalize_attrs),\n",
    "    \"Gradient\": methods.Gradient(model, normalize=normalize_attrs),\n",
    "    \"InputXGradient\": methods.InputXGradient(model, normalize=normalize_attrs),\n",
    "    \"IntegratedGradients\": methods.IntegratedGradients(model, normalize=normalize_attrs),\n",
    "    \"GuidedBackprop\": methods.GuidedBackprop(model, normalize=normalize_attrs),\n",
    "    \"Deconvolution\": methods.Deconvolution(model, normalize=normalize_attrs),\n",
    "    \"Random\": methods.Random(normalize=normalize_attrs)\n",
    "}"
   ]
  },
  {
   "cell_type": "code",
   "execution_count": 8,
   "metadata": {},
   "outputs": [
    {
     "name": "stderr",
     "output_type": "stream",
     "text": [
      "/home/arne/Documents/PhD/projects/benchmark/venv/lib/python3.6/site-packages/captum/attr/_core/guided_backprop_deconvnet.py:56: UserWarning: Setting backward hooks on ReLU activations.The hooks will be removed after the attribution is finished\n",
      "  \"Setting backward hooks on ReLU activations.\"\n"
     ]
    }
   ],
   "source": [
    "result = simple_sensitivity(itertools.islice(dataset.get_test_data(), n_batches), model, attribution_methods, mask_range, dataset.mask_value)"
   ]
  },
  {
   "cell_type": "code",
   "execution_count": null,
   "metadata": {},
   "outputs": [],
   "source": [
    "result_df = pd.DataFrame.from_dict(\n",
    "    {m_name: pd.DataFrame(data=result[m_name]).stack() for m_name in attribution_methods}\n",
    ").stack().reset_index()\n",
    "result_df.columns = [\"sample\", \"mask\", \"method\", \"difference\"]\n",
    "result_df[\"mask\"] = np.array(mask_range)[result_df[\"mask\"]]"
   ]
  },
  {
   "cell_type": "code",
   "execution_count": null,
   "metadata": {},
   "outputs": [],
   "source": [
    "result_df"
   ]
  },
  {
   "cell_type": "code",
   "execution_count": null,
   "metadata": {},
   "outputs": [],
   "source": [
    "plt.figure(figsize=(10, 5))\n",
    "sns.lineplot(x=\"mask\", y=\"difference\", hue=\"method\", data=result_df)\n",
    "plt.legend(bbox_to_anchor=(1.05, 1), loc=2, borderaxespad=0.)"
   ]
  },
  {
   "cell_type": "code",
   "execution_count": null,
   "metadata": {},
   "outputs": [],
   "source": []
  }
 ],
 "metadata": {
  "kernelspec": {
   "display_name": "Python 3",
   "language": "python",
   "name": "python3"
  },
  "language_info": {
   "codemirror_mode": {
    "name": "ipython",
    "version": 3
   },
   "file_extension": ".py",
   "mimetype": "text/x-python",
   "name": "python",
   "nbconvert_exporter": "python",
   "pygments_lexer": "ipython3",
   "version": "3.6.9"
  }
 },
 "nbformat": 4,
 "nbformat_minor": 4
}
