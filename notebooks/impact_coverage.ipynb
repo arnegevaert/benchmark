{
 "cells": [
  {
   "cell_type": "code",
   "execution_count": null,
   "metadata": {},
   "outputs": [],
   "source": [
    "# This block allows us to import from the benchmark folder,\n",
    "# as if it was a package installed using pip\n",
    "import os\n",
    "import sys\n",
    "module_path = os.path.abspath(os.path.join('..'))\n",
    "if module_path not in sys.path:\n",
    "    sys.path.append(module_path)"
   ]
  },
  {
   "cell_type": "code",
   "execution_count": 2,
   "metadata": {},
   "outputs": [],
   "source": [
    "import torch\n",
    "from util import datasets, methods, models\n",
    "from os import path\n",
    "from benchmark.impact_coverage import impact_coverage\n",
    "import itertools"
   ]
  },
  {
   "cell_type": "code",
   "execution_count": 3,
   "metadata": {},
   "outputs": [],
   "source": [
    "device = \"cuda\"\n",
    "dataset_name = \"CIFAR10\"\n",
    "model_name = \"resnet20\"\n",
    "download_dataset = False\n",
    "batch_size = 8\n",
    "n_batches = 32\n",
    "target_label = 0\n",
    "data_root = \"../data\"\n",
    "normalize_attrs = True\n",
    "patch_size_percent = 0.1"
   ]
  },
  {
   "cell_type": "code",
   "execution_count": 4,
   "metadata": {},
   "outputs": [],
   "source": [
    "patch = torch.load(path.join(data_root, \"patches\", f\"{dataset_name}_{model_name}_patch.pt\"))\n",
    "dataset = datasets.Cifar(batch_size=batch_size, data_location=path.join(data_root, dataset_name))\n",
    "model = models.CifarResnet(version=model_name, params_loc=path.join(data_root, f\"models/{dataset_name}_{model_name}.pth\"),\n",
    "                           output_logits=True)\n",
    "model.to(device)\n",
    "model.eval()\n",
    "pass  # Prevents output from model.eval()"
   ]
  },
  {
   "cell_type": "code",
   "execution_count": 5,
   "metadata": {},
   "outputs": [],
   "source": [
    "attribution_methods = {\n",
    "    \"GuidedGradCAM\": methods.GuidedGradCAM(model, model.get_last_conv_layer(), normalize=normalize_attrs),\n",
    "    \"Gradient\": methods.Gradient(model, normalize=normalize_attrs),\n",
    "    \"InputXGradient\": methods.InputXGradient(model, normalize=normalize_attrs),\n",
    "    \"IntegratedGradients\": methods.IntegratedGradients(model, normalize=normalize_attrs),\n",
    "    \"GuidedBackprop\": methods.GuidedBackprop(model, normalize=normalize_attrs),\n",
    "    \"Deconvolution\": methods.Deconvolution(model, normalize=normalize_attrs),\n",
    "    \"Random\": methods.Random(normalize=normalize_attrs)\n",
    "}"
   ]
  },
  {
   "cell_type": "code",
   "execution_count": 6,
   "metadata": {},
   "outputs": [
    {
     "name": "stderr",
     "output_type": "stream",
     "text": [
      "/home/arne/Documents/PhD/projects/benchmark/benchmark/impact_coverage/impact_coverage.py:17: UserWarning: To copy construct from a tensor, it is recommended to use sourceTensor.clone().detach() or sourceTensor.clone().detach().requires_grad_(True), rather than torch.tensor(sourceTensor).\n",
      "  samples, labels = torch.tensor(samples), torch.tensor(labels)\n",
      "/home/arne/Documents/PhD/projects/benchmark/venv/lib/python3.6/site-packages/captum/attr/_core/guided_backprop_deconvnet.py:56: UserWarning: Setting backward hooks on ReLU activations.The hooks will be removed after the attribution is finished\n",
      "  \"Setting backward hooks on ReLU activations.\"\n"
     ]
    },
    {
     "data": {
      "text/plain": [
       "{'GuidedGradCAM': 0.30138679732979706,\n",
       " 'Gradient': 0.004563041102069851,\n",
       " 'InputXGradient': 0.056338028169014086,\n",
       " 'IntegratedGradients': 0.16980331545291996,\n",
       " 'GuidedBackprop': 0.2608198595459742,\n",
       " 'Deconvolution': 0.049331255210409944,\n",
       " 'Random': 0.05181888369135747}"
      ]
     },
     "execution_count": 6,
     "metadata": {},
     "output_type": "execute_result"
    }
   ],
   "source": [
    "impact_coverage(data=itertools.islice(dataset.get_dataloader(train=False), n_batches), sample_shape=dataset.sample_shape, patch=patch, patch_size_percent=0.1, model=model, methods=attribution_methods,\n",
    "                device=device, target_label=0)"
   ]
  }
 ],
 "metadata": {
  "kernelspec": {
   "display_name": "Python 3",
   "language": "python",
   "name": "python3"
  },
  "language_info": {
   "codemirror_mode": {
    "name": "ipython",
    "version": 3
   },
   "file_extension": ".py",
   "mimetype": "text/x-python",
   "name": "python",
   "nbconvert_exporter": "python",
   "pygments_lexer": "ipython3",
   "version": "3.6.9"
  }
 },
 "nbformat": 4,
 "nbformat_minor": 4
}