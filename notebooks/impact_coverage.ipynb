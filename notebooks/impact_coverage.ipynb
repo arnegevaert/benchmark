{
 "cells": [
  {
   "cell_type": "code",
   "execution_count": 4,
   "metadata": {
    "pycharm": {
     "is_executing": false
    }
   },
   "outputs": [],
   "source": [
    "# This block allows us to import from the benchmark folder,\n",
    "# as if it was a package installed using pip\n",
    "import os\n",
    "import sys\n",
    "module_path = os.path.abspath(os.path.join('..'))\n",
    "if module_path not in sys.path:\n",
    "    sys.path.append(module_path)"
   ]
  },
  {
   "cell_type": "code",
   "execution_count": 5,
   "metadata": {
    "pycharm": {
     "is_executing": false
    }
   },
   "outputs": [],
   "source": [
    "import torch\n",
    "from attrbench import datasets, attribution, models\n",
    "from attrbench.evaluation.impact_coverage import impact_coverage\n",
    "from os import path\n",
    "import itertools"
   ]
  },
  {
   "cell_type": "code",
   "execution_count": 6,
   "metadata": {
    "pycharm": {
     "is_executing": false
    }
   },
   "outputs": [],
   "source": [
    "device = \"cpu\"\n",
    "dataset_name = \"CIFAR10\"\n",
    "model_name = \"resnet18\"\n",
    "download_dataset = False\n",
    "batch_size = 8\n",
    "n_batches = 32\n",
    "target_label = 0\n",
    "data_root = \"../data\"\n",
    "normalize_attrs = True\n",
    "aggregation_fn = \"avg\""
   ]
  },
  {
   "cell_type": "code",
   "execution_count": 8,
   "metadata": {
    "pycharm": {
     "is_executing": false
    }
   },
   "outputs": [],
   "source": [
    "patch = torch.load(path.join(data_root, \"patches\", f\"{dataset_name}_{model_name}_patch.pt\"))\n",
    "dataset = datasets.Cifar(batch_size=batch_size, data_location=path.join(data_root, dataset_name))\n",
    "model = models.Resnet(version=model_name, params_loc=path.join(data_root, f\"models/{dataset_name}/{model_name}.pt\"),\n",
    "                      output_logits=True, num_classes=10)\n",
    "model.to(device)\n",
    "model.eval()\n",
    "pass  # Prevents output from model.eval()"
   ]
  },
  {
   "cell_type": "code",
   "execution_count": 11,
   "metadata": {
    "pycharm": {
     "is_executing": false
    }
   },
   "outputs": [],
   "source": [
    "kwargs = {\n",
    "    \"normalize\": normalize_attrs,\n",
    "    \"aggregation_fn\": aggregation_fn\n",
    "}\n",
    "\n",
    "attribution_methods = {\n",
    "    # \"GuidedGradCAM\": attribution.GuidedGradCAM(model, model.get_last_conv_layer(), **kwargs),\n",
    "    \"Gradient\": attribution.Gradient(model, **kwargs),\n",
    "    \"InputXGradient\": attribution.InputXGradient(model, **kwargs),\n",
    "    \"IntegratedGradients\": attribution.IntegratedGradients(model, **kwargs),\n",
    "    \"GuidedBackprop\": attribution.GuidedBackprop(model, **kwargs),\n",
    "    \"Deconvolution\": attribution.Deconvolution(model, **kwargs),\n",
    "    \"Random\": attribution.Random(**kwargs)\n",
    "}"
   ]
  },
  {
   "cell_type": "code",
   "execution_count": 12,
   "metadata": {
    "pycharm": {
     "is_executing": false
    }
   },
   "outputs": [
    {
     "data": {
      "text/plain": "{'Gradient': 0.08843537414965986,\n 'InputXGradient': 0.09717868338557993,\n 'IntegratedGradients': 0.10402838930143918,\n 'GuidedBackprop': 0.08059432687978388,\n 'Deconvolution': 0.07464977931299174,\n 'Random': 0.05177487009328242}"
     },
     "metadata": {},
     "output_type": "execute_result",
     "execution_count": 12
    }
   ],
   "source": [
    "impact_coverage(data=itertools.islice(dataset.get_dataloader(train=False), n_batches),\n",
    "                sample_shape=dataset.sample_shape, patch=patch, model=model, methods=attribution_methods,\n",
    "                device=device, target_label=0)"
   ]
  },
  {
   "cell_type": "code",
   "execution_count": 5,
   "metadata": {
    "collapsed": false,
    "jupyter": {
     "outputs_hidden": false
    },
    "pycharm": {
     "name": "#%%\n"
    }
   },
   "outputs": [
    {
     "data": {
      "text/plain": [
       "False"
      ]
     },
     "execution_count": 5,
     "metadata": {},
     "output_type": "execute_result"
    }
   ],
   "source": [
    "torch.cuda.is_available()"
   ]
  },
  {
   "cell_type": "code",
   "execution_count": null,
   "outputs": [],
   "source": [],
   "metadata": {
    "collapsed": false,
    "pycharm": {
     "name": "#%%\n"
    }
   }
  },
  {
   "cell_type": "code",
   "execution_count": null,
   "metadata": {},
   "outputs": [],
   "source": []
  }
 ],
 "metadata": {
  "kernelspec": {
   "display_name": "Python 3",
   "language": "python",
   "name": "python3"
  },
  "language_info": {
   "codemirror_mode": {
    "name": "ipython",
    "version": 3
   },
   "file_extension": ".py",
   "mimetype": "text/x-python",
   "name": "python",
   "nbconvert_exporter": "python",
   "pygments_lexer": "ipython3",
   "version": "3.7.5"
  },
  "pycharm": {
   "stem_cell": {
    "cell_type": "raw",
    "source": [],
    "metadata": {
     "collapsed": false
    }
   }
  }
 },
 "nbformat": 4,
 "nbformat_minor": 4
}