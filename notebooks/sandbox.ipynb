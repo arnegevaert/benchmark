{
 "cells": [
  {
   "cell_type": "code",
   "execution_count": 1,
   "metadata": {},
   "outputs": [],
   "source": [
    "# This block allows us to import from the benchmark folder,\n",
    "# as if it was a package installed using pip\n",
    "import os\n",
    "import sys\n",
    "module_path = os.path.abspath(os.path.join('..'))\n",
    "if module_path not in sys.path:\n",
    "    sys.path.append(module_path)"
   ]
  },
  {
   "cell_type": "code",
   "execution_count": 2,
   "metadata": {},
   "outputs": [],
   "source": [
    "from util import datasets, methods, models, plot\n",
    "import numpy as np\n",
    "from os import path\n",
    "import matplotlib.pyplot as plt"
   ]
  },
  {
   "cell_type": "code",
   "execution_count": 3,
   "metadata": {},
   "outputs": [],
   "source": [
    "# General parameters\n",
    "batch_size = 2\n",
    "data_root = \"../data\"\n",
    "use_logits = True\n",
    "normalize_attrs = False\n",
    "aggregation_fn = \"avg\"\n",
    "dataset_name = \"CIFAR10\""
   ]
  },
  {
   "cell_type": "code",
   "execution_count": 4,
   "metadata": {},
   "outputs": [],
   "source": [
    "if dataset_name == \"MNIST\":\n",
    "    model = models.MNISTCNN(params_loc=path.join(data_root, \"models/MNIST_cnn.pth\"), output_logits=use_logits)\n",
    "    model.eval()\n",
    "    dataset = datasets.MNIST(batch_size=batch_size, data_location=path.join(data_root, \"MNIST\"))\n",
    "else:\n",
    "    model = models.CifarResnet(version=\"resnet20\", params_loc=path.join(data_root, \"models/CIFAR10_resnet20.pth\"), num_classes=10, output_logits=use_logits)\n",
    "    model.eval()\n",
    "    dataset = datasets.Cifar(batch_size=batch_size, data_location=path.join(data_root, \"CIFAR10\"))\n"
   ]
  },
  {
   "cell_type": "code",
   "execution_count": 5,
   "metadata": {},
   "outputs": [],
   "source": [
    "kwargs = {\n",
    "    \"normalize\": normalize_attrs,\n",
    "    \"aggregation_fn\": aggregation_fn\n",
    "}\n",
    "\n",
    "\"\"\"\n",
    "attribution_methods = {\n",
    "    \"GuidedGradCAM\": methods.GuidedGradCAM(model, model.get_last_conv_layer(), **kwargs),\n",
    "    \"Gradient\": methods.Gradient(model, **kwargs),\n",
    "    \"InputXGradient\": methods.InputXGradient(model, **kwargs),\n",
    "    \"IntegratedGradients\": methods.IntegratedGradients(model, **kwargs),\n",
    "    \"GuidedBackprop\": methods.GuidedBackprop(model, **kwargs),\n",
    "    \"Deconvolution\": methods.Deconvolution(model, **kwargs),\n",
    "    \"Random\": methods.Random(**kwargs),\n",
    "    \"LIME\": methods.LIME(model, **kwargs)\n",
    "}\n",
    "\"\"\"\n",
    "attribution_methods = {\n",
    "    \"LIME\": methods.LIME(model, dataset.sample_shape, **kwargs)\n",
    "}"
   ]
  },
  {
   "cell_type": "code",
   "execution_count": 6,
   "metadata": {},
   "outputs": [],
   "source": [
    "imgs, labels = next(iter(dataset.get_dataloader(train=True)))\n"
   ]
  },
  {
   "cell_type": "code",
   "execution_count": 7,
   "metadata": {
    "pycharm": {
     "name": "#%%\n"
    }
   },
   "outputs": [
    {
     "name": "stdout",
     "output_type": "stream",
     "text": [
      "LIME\n",
      "\n",
      "\n"
     ]
    },
    {
     "data": {
      "text/plain": "HBox(children=(FloatProgress(value=0.0, max=1000.0), HTML(value='')))",
      "application/vnd.jupyter.widget-view+json": {
       "version_major": 2,
       "version_minor": 0,
       "model_id": "6c5ca3030c374c05b390078013ee9dfa"
      }
     },
     "metadata": {},
     "output_type": "display_data"
    },
    {
     "data": {
      "text/plain": "HBox(children=(FloatProgress(value=0.0, max=1000.0), HTML(value='')))",
      "application/vnd.jupyter.widget-view+json": {
       "version_major": 2,
       "version_minor": 0,
       "model_id": "8f39d183a38747ccb1c5809f4def2265"
      }
     },
     "metadata": {},
     "output_type": "display_data"
    },
    {
     "data": {
      "text/plain": "<Figure size 576x576 with 2 Axes>",
      "image/png": "[encoded data removed]"
     },
     "metadata": {
      "needs_background": "light"
     },
     "output_type": "display_data"
    },
    {
     "data": {
      "text/plain": "<Figure size 576x576 with 2 Axes>",
      "image/png": "[encoded data removed]"
     },
     "metadata": {
      "needs_background": "light"
     },
     "output_type": "display_data"
    }
   ],
   "source": [
    "for m in attribution_methods:\n",
    "    print(m)\n",
    "    attrs = attribution_methods[m](imgs, labels)\n",
    "    for i in range(batch_size):\n",
    "        plot.plot_image_with_attributions(imgs[i].detach().numpy(), attrs[i].abs().detach().numpy())\n",
    "        plt.show()"
   ]
  },
  {
   "cell_type": "code",
   "execution_count": null,
   "outputs": [],
   "source": [
    "\n"
   ],
   "metadata": {
    "collapsed": false,
    "pycharm": {
     "name": "#%%\n"
    }
   }
  }
 ],
 "metadata": {
  "kernelspec": {
   "display_name": "Python 3",
   "language": "python",
   "name": "python3"
  },
  "language_info": {
   "codemirror_mode": {
    "name": "ipython",
    "version": 3
   },
   "file_extension": ".py",
   "mimetype": "text/x-python",
   "name": "python",
   "nbconvert_exporter": "python",
   "pygments_lexer": "ipython3",
   "version": "3.6.9"
  }
 },
 "nbformat": 4,
 "nbformat_minor": 4
}