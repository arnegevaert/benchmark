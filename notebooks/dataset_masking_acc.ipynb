{
 "cells": [
  {
   "cell_type": "code",
   "execution_count": 1,
   "metadata": {},
   "outputs": [],
   "source": [
    "# This block allows us to import from the benchmark folder,\n",
    "# as if it was a package installed using pip\n",
    "import os\n",
    "import sys\n",
    "module_path = os.path.abspath(os.path.join('..'))\n",
    "if module_path not in sys.path:\n",
    "    sys.path.append(module_path)"
   ]
  },
  {
   "cell_type": "code",
   "execution_count": 2,
   "metadata": {},
   "outputs": [],
   "source": [
    "from util import datasets, methods\n",
    "from benchmark.masking.dataset_masking import generate_masked_geometry_dataset, MaskedGeometryDataset, dataset_masking_accuracy\n",
    "from benchmark import train_model, test_model\n",
    "import pickle as pkl\n",
    "from os import path\n",
    "import torch.nn as nn\n",
    "import torch.nn.functional as F\n",
    "import torch"
   ]
  },
  {
   "cell_type": "code",
   "execution_count": 3,
   "metadata": {},
   "outputs": [],
   "source": [
    "batch_size = 16\n",
    "data_root = \"../data\"\n",
    "dataset_loc = \"geometry/basic\"\n",
    "model_loc = \"models/basic_geometry_cnn.pkl\"\n",
    "load_model = True  # If False, model will be trained on dataset\n",
    "normalize_attrs = True"
   ]
  },
  {
   "cell_type": "code",
   "execution_count": 4,
   "metadata": {},
   "outputs": [],
   "source": [
    "dataset = MaskedGeometryDataset(batch_size, path.join(data_root, dataset_loc))"
   ]
  },
  {
   "cell_type": "code",
   "execution_count": 5,
   "metadata": {},
   "outputs": [],
   "source": [
    "class Net(nn.Module):\n",
    "    def __init__(self):\n",
    "        super(Net, self).__init__()\n",
    "        self.conv1 = nn.Conv2d(3, 20, 3, 1)\n",
    "        self.conv2 = nn.Conv2d(20, 20, 3, 1)\n",
    "        self.dropout1 = nn.Dropout2d(0.25)\n",
    "        self.dropout2 = nn.Dropout2d(0.5)\n",
    "        self.fc1 = nn.Linear(720, 128)\n",
    "        self.fc2 = nn.Linear(128, 2)\n",
    "\n",
    "    def get_logits(self, x):\n",
    "        relu = nn.ReLU()\n",
    "        x = self.conv1(x)\n",
    "        x = relu(x)\n",
    "        x = self.conv2(x)\n",
    "        x = F.max_pool2d(x, 16)\n",
    "        x = self.dropout1(x)\n",
    "        x = torch.flatten(x, 1)\n",
    "        x = self.fc1(x)\n",
    "        x = relu(x)\n",
    "        x = self.dropout2(x)\n",
    "        return self.fc2(x)\n",
    "\n",
    "    def forward(self, x):\n",
    "        if x.dtype != torch.float32:\n",
    "            x = x.float()\n",
    "        logits = self.get_logits(x)\n",
    "        return F.softmax(logits, dim=1)"
   ]
  },
  {
   "cell_type": "code",
   "execution_count": 6,
   "metadata": {},
   "outputs": [
    {
     "name": "stdout",
     "output_type": "stream",
     "text": [
      "\n",
      "Test set: Average loss: 0.3134, Accuracy: 1000/1000 (100%)\n",
      "Positive samples: 500/1000 (50%)\n",
      "\n"
     ]
    },
    {
     "data": {
      "text/plain": [
       "Net(\n",
       "  (conv1): Conv2d(3, 20, kernel_size=(3, 3), stride=(1, 1))\n",
       "  (conv2): Conv2d(20, 20, kernel_size=(3, 3), stride=(1, 1))\n",
       "  (dropout1): Dropout2d(p=0.25, inplace=False)\n",
       "  (dropout2): Dropout2d(p=0.5, inplace=False)\n",
       "  (fc1): Linear(in_features=720, out_features=128, bias=True)\n",
       "  (fc2): Linear(in_features=128, out_features=2, bias=True)\n",
       ")"
      ]
     },
     "execution_count": 6,
     "metadata": {},
     "output_type": "execute_result"
    }
   ],
   "source": [
    "if load_model:\n",
    "    with open(path.join(data_root, model_loc), \"rb\") as f:\n",
    "        model = pkl.load(f)\n",
    "    test_model(model, dataset)\n",
    "else:\n",
    "    model = Net()\n",
    "    train_model(model, dataset, lr=1.0, gamma=0.7, epochs=2)\n",
    "    with open(path.join(data_root, model_loc), \"wb\") as f:\n",
    "        pkl.dump(model, f)\n",
    "model.eval()"
   ]
  },
  {
   "cell_type": "code",
   "execution_count": 7,
   "metadata": {},
   "outputs": [],
   "source": [
    "attribution_methods = {\n",
    "    #\"GuidedGradCAM\": methods.GuidedGradCAM(model, model.get_last_conv_layer(), normalize=normalize_attrs),\n",
    "    \"Gradient\": methods.Gradient(model, normalize=normalize_attrs),\n",
    "    \"InputXGradient\": methods.InputXGradient(model, normalize=normalize_attrs),\n",
    "    \"IntegratedGradients\": methods.IntegratedGradients(model, normalize=normalize_attrs),\n",
    "    \"GuidedBackprop\": methods.GuidedBackprop(model, normalize=normalize_attrs),\n",
    "    \"Deconvolution\": methods.Deconvolution(model, normalize=normalize_attrs),\n",
    "    \"Random\": methods.Random(normalize=normalize_attrs)\n",
    "}"
   ]
  },
  {
   "cell_type": "code",
   "execution_count": 8,
   "metadata": {},
   "outputs": [
    {
     "name": "stdout",
     "output_type": "stream",
     "text": [
      "Batch 1/63...\n"
     ]
    },
    {
     "name": "stderr",
     "output_type": "stream",
     "text": [
      "/home/arne/Documents/PhD/projects/benchmark/venv/lib/python3.6/site-packages/captum/attr/_utils/gradient.py:33: UserWarning: Input Tensor 0 did not already require gradients, required_grads has been set automatically.\n",
      "  \"required_grads has been set automatically.\" % index\n",
      "/home/arne/Documents/PhD/projects/benchmark/venv/lib/python3.6/site-packages/captum/attr/_core/guided_backprop_deconvnet.py:56: UserWarning: Setting backward hooks on ReLU activations.The hooks will be removed after the attribution is finished\n",
      "  \"Setting backward hooks on ReLU activations.\"\n"
     ]
    },
    {
     "name": "stdout",
     "output_type": "stream",
     "text": [
      "Batch 2/63...\n",
      "Batch 3/63...\n",
      "Batch 4/63...\n",
      "Batch 5/63...\n",
      "Batch 6/63...\n",
      "Batch 7/63...\n",
      "Batch 8/63...\n",
      "Batch 9/63...\n",
      "Batch 10/63...\n",
      "Batch 11/63...\n",
      "Batch 12/63...\n",
      "Batch 13/63...\n",
      "Batch 14/63...\n",
      "Batch 15/63...\n",
      "Batch 16/63...\n",
      "Batch 17/63...\n",
      "Batch 18/63...\n",
      "Batch 19/63...\n",
      "Batch 20/63...\n",
      "Batch 21/63...\n",
      "Batch 22/63...\n",
      "Batch 23/63...\n",
      "Batch 24/63...\n",
      "Batch 25/63...\n",
      "Batch 26/63...\n",
      "Batch 27/63...\n",
      "Batch 28/63...\n",
      "Batch 29/63...\n",
      "Batch 30/63...\n",
      "Batch 31/63...\n",
      "Batch 32/63...\n",
      "Batch 33/63...\n",
      "Batch 34/63...\n",
      "Batch 35/63...\n",
      "Batch 36/63...\n",
      "Batch 37/63...\n",
      "Batch 38/63...\n",
      "Batch 39/63...\n",
      "Batch 40/63...\n",
      "Batch 41/63...\n",
      "Batch 42/63...\n",
      "Batch 43/63...\n",
      "Batch 44/63...\n",
      "Batch 45/63...\n",
      "Batch 46/63...\n",
      "Batch 47/63...\n",
      "Batch 48/63...\n",
      "Batch 49/63...\n",
      "Batch 50/63...\n",
      "Batch 51/63...\n",
      "Batch 52/63...\n",
      "Batch 53/63...\n",
      "Batch 54/63...\n",
      "Batch 55/63...\n",
      "Batch 56/63...\n",
      "Batch 57/63...\n",
      "Batch 58/63...\n",
      "Batch 59/63...\n",
      "Batch 60/63...\n",
      "Batch 61/63...\n",
      "Batch 62/63...\n",
      "Batch 63/63...\n"
     ]
    }
   ],
   "source": [
    "results = dataset_masking_accuracy(dataset, attribution_methods)"
   ]
  },
  {
   "cell_type": "code",
   "execution_count": 9,
   "metadata": {},
   "outputs": [
    {
     "data": {
      "text/plain": [
       "<matplotlib.axes._subplots.AxesSubplot at 0x7fcee1bac6d8>"
      ]
     },
     "execution_count": 9,
     "metadata": {},
     "output_type": "execute_result"
    },
    {
     "data": {
      "image/png": "[encoded data removed]",
      "text/plain": [
       "<Figure size 720x360 with 1 Axes>"
      ]
     },
     "metadata": {
      "needs_background": "light"
     },
     "output_type": "display_data"
    }
   ],
   "source": [
    "import pandas as pd\n",
    "import seaborn as sns\n",
    "import matplotlib.pyplot as plt\n",
    "plt.figure(figsize=(10, 5))\n",
    "sns.boxplot(data=pd.DataFrame.from_dict(results))"
   ]
  },
  {
   "cell_type": "code",
   "execution_count": null,
   "metadata": {},
   "outputs": [],
   "source": []
  },
  {
   "cell_type": "code",
   "execution_count": null,
   "metadata": {},
   "outputs": [],
   "source": []
  }
 ],
 "metadata": {
  "kernelspec": {
   "display_name": "Python 3",
   "language": "python",
   "name": "python3"
  },
  "language_info": {
   "codemirror_mode": {
    "name": "ipython",
    "version": 3
   },
   "file_extension": ".py",
   "mimetype": "text/x-python",
   "name": "python",
   "nbconvert_exporter": "python",
   "pygments_lexer": "ipython3",
   "version": "3.6.9"
  }
 },
 "nbformat": 4,
 "nbformat_minor": 4
}
