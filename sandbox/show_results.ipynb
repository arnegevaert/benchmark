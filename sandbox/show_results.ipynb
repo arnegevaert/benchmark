{
 "cells": [
  {
   "cell_type": "code",
   "execution_count": null,
   "metadata": {},
   "outputs": [],
   "source": [
    "# This block allows us to import from the benchmark folder,\n",
    "# as if it was a package installed using pip\n",
    "import os\n",
    "import sys\n",
    "module_path = os.path.abspath(os.path.join('..'))\n",
    "if module_path not in sys.path:\n",
    "    sys.path.append(module_path)"
   ]
  },
  {
   "cell_type": "code",
   "execution_count": null,
   "metadata": {},
   "outputs": [],
   "source": [
    "import pandas as pd\n",
    "import matplotlib.pyplot as plt\n",
    "import seaborn as sns\n",
    "import matplotlib as mpl\n",
    "from attrbench.evaluation import result, insertion_deletion_curves\n",
    "from os import path\n",
    "import os\n",
    "import pickle as pkl\n",
    "import json\n",
    "mpl.rcParams['figure.dpi'] = 150"
   ]
  },
  {
   "cell_type": "markdown",
   "metadata": {},
   "source": [
    "## Load and plot experiment data"
   ]
  },
  {
   "cell_type": "code",
   "execution_count": null,
   "metadata": {},
   "outputs": [],
   "source": [
    "data = json.load(open(\"../out/transforms/deletion_imagenette_softmax.json\", \"r\"))\n",
    "data[\"x_range\"] = [0] + data[\"x_range\"] + [32*32]\n",
    "res = result.LinePlotResult(**data)\n",
    "fig, ax = res.plot(ci=True)\n",
    "auc = res.auc()\n",
    "for method in auc:\n",
    "    print(f\"{method}: [{auc[method]['lower']:.2f} - {auc[method]['mean']:.2f} - {auc[method]['upper']:.2f}]\")"
   ]
  },
  {
   "cell_type": "code",
   "execution_count": null,
   "metadata": {},
   "outputs": [],
   "source": [
    "data = json.load(open(\"../out/transforms/deletion_imagenette_id.json\", \"r\"))\n",
    "data[\"x_range\"] = [0] + data[\"x_range\"] + [32*32]\n",
    "res = result.LinePlotResult(**data)\n",
    "fig, ax = res.plot(ci=True)\n",
    "auc = res.auc()\n",
    "for method in auc:\n",
    "    print(f\"{method}: [{auc[method]['lower']:.2f} - {auc[method]['mean']:.2f} - {auc[method]['upper']:.2f}]\")"
   ]
  },
  {
   "cell_type": "code",
   "execution_count": null,
   "metadata": {},
   "outputs": [],
   "source": [
    "fig.savefig(\"fig2.png\", bbox_inches=\"tight\")"
   ]
  },
  {
   "cell_type": "markdown",
   "metadata": {},
   "source": [
    "## Plot using old code"
   ]
  },
  {
   "cell_type": "code",
   "execution_count": null,
   "metadata": {},
   "outputs": [],
   "source": [
    "lineplot(\"../out/mnist/sensitivity_n/\", x=\"n\", y=\"correlation\")"
   ]
  },
  {
   "cell_type": "markdown",
   "metadata": {},
   "source": [
    "## Convert experiment results (deletion/insertion curves)"
   ]
  },
  {
   "cell_type": "code",
   "execution_count": null,
   "metadata": {},
   "outputs": [],
   "source": [
    "def convert_result(in_filename, out_filename):\n",
    "    df = pkl.load(open(in_filename, \"rb\"))\n",
    "    x_range = df[\"insertion\"].unique()\n",
    "    methods = df[\"method\"].unique()\n",
    "    raw = {}\n",
    "    for method in methods:\n",
    "        raw[method] = df[df[\"method\"] == method][[\"difference\"]].values.reshape((-1, len(x_range)))\n",
    "    result = {\n",
    "        \"data\": raw,\n",
    "        \"x_range\": x_range\n",
    "    }\n",
    "    pkl.dump(result, open(out_filename, \"wb\"))"
   ]
  },
  {
   "cell_type": "code",
   "execution_count": null,
   "metadata": {},
   "outputs": [],
   "source": [
    "res_dir = \"../out/imagenette/insertion_curves\"\n",
    "convert_result(path.join(res_dir, \"result.pkl\"), path.join(res_dir, \"result_new.pkl\"))"
   ]
  },
  {
   "cell_type": "markdown",
   "metadata": {},
   "source": [
    "## Convert experiment results (sensitivity-n)"
   ]
  },
  {
   "cell_type": "code",
   "execution_count": null,
   "metadata": {},
   "outputs": [],
   "source": [
    "#def convert_result_sens_n(in_filename, out_filename):\n",
    "res_dir = \"../out/imagenette/sensitivity_n\"\n",
    "in_filename = path.join(res_dir, \"result.pkl\")\n",
    "df = pkl.load(open(in_filename, \"rb\"))"
   ]
  },
  {
   "cell_type": "code",
   "execution_count": null,
   "metadata": {},
   "outputs": [],
   "source": [
    "df"
   ]
  },
  {
   "cell_type": "code",
   "execution_count": null,
   "metadata": {},
   "outputs": [],
   "source": [
    "def convert_result_sens_n(in_filename, out_filename):\n",
    "    df = pkl.load(open(in_filename, \"rb\"))\n",
    "    x_range = df[\"n\"].unique()\n",
    "    methods = df[\"method\"].unique()\n",
    "    raw = {}\n",
    "    for method in methods:\n",
    "        raw[method] = df[df[\"method\"] == method][[\"correlation\"]].values.reshape((-1, len(x_range)))\n",
    "    result = {\n",
    "        \"data\": raw,\n",
    "        \"x_range\": x_range\n",
    "    }\n",
    "    pkl.dump(result, open(out_filename, \"wb\"))"
   ]
  },
  {
   "cell_type": "code",
   "execution_count": null,
   "metadata": {},
   "outputs": [],
   "source": [
    "res_dir = \"../out/cifar10_old/sensitivity_n\"\n",
    "convert_result_sens_n(path.join(res_dir, \"result.pkl\"), path.join(res_dir, \"result_new.pkl\"))"
   ]
  },
  {
   "cell_type": "code",
   "execution_count": null,
   "metadata": {},
   "outputs": [],
   "source": []
  }
 ],
 "metadata": {
  "kernelspec": {
   "display_name": "Python 3",
   "language": "python",
   "name": "python3"
  },
  "language_info": {
   "codemirror_mode": {
    "name": "ipython",
    "version": 3
   },
   "file_extension": ".py",
   "mimetype": "text/x-python",
   "name": "python",
   "nbconvert_exporter": "python",
   "pygments_lexer": "ipython3",
   "version": "3.7.5"
  }
 },
 "nbformat": 4,
 "nbformat_minor": 4
}
