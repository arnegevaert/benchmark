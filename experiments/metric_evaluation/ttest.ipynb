{
 "cells": [
  {
   "cell_type": "code",
   "execution_count": 8,
   "metadata": {},
   "outputs": [],
   "source": [
    "from experiments.independent.correlations import correlation_heatmap, normalize\n",
    "from experiments.independent import load_results, get_metric\n",
    "from scipy.stats import spearmanr\n",
    "import matplotlib.pyplot as plt\n",
    "import numpy as np\n",
    "import ppscore\n",
    "import pandas as pd\n",
    "from scipy.stats import norm, ttest_ind"
   ]
  },
  {
   "cell_type": "code",
   "execution_count": 9,
   "metadata": {},
   "outputs": [
    {
     "name": "stdout",
     "output_type": "stream",
     "text": [
      "SmoothGrad\n",
      "Random\n",
      "InputXGradient\n",
      "Gradient\n"
     ]
    }
   ],
   "source": [
    "DATA_DIR = \"../../out/nonshuffled/ImageNette\"\n",
    "all_data, metadata = load_results(DATA_DIR)\n",
    "methods = list(all_data.keys())\n",
    "print(\"\\n\".join(methods))"
   ]
  },
  {
   "cell_type": "code",
   "execution_count": 10,
   "metadata": {},
   "outputs": [
    {
     "data": {
      "image/png": "[encoded data removed]",
      "text/plain": [
       "<Figure size 432x288 with 1 Axes>"
      ]
     },
     "metadata": {
      "needs_background": "light"
     },
     "output_type": "display_data"
    }
   ],
   "source": [
    "metric_results = get_metric(all_data, \"deletion\")\n",
    "#data1 = (np.max(metric_results[\"Random\"], axis=1) - np.mean(metric_results[\"Random\"], axis=1)) / (np.max(metric_results[\"Random\"], axis=1) - np.min(metric_results[\"Random\"], axis=1)).flatten()\n",
    "#data2 = (np.max(metric_results[\"InputXGradient\"], axis=1) - np.mean(metric_results[\"InputXGradient\"], axis=1)) / (np.max(metric_results[\"InputXGradient\"], axis=1) - np.min(metric_results[\"InputXGradient\"], axis=1)).flatten()\n",
    "data1 = metric_results[\"Random\"][:, 0] - np.mean(metric_results[\"Random\"][:, 1:], axis=1)\n",
    "data2 = metric_results[\"SmoothGrad\"][:, 0] - np.mean(metric_results[\"SmoothGrad\"][:, 1:], axis=1)\n",
    "\n",
    "# Plot the histogram\n",
    "plt.hist(data1, bins=100, density=True, alpha=0.6, color=\"b\")\n",
    "plt.hist(data2, bins=100, density=True, alpha=0.6, color=\"r\")\n",
    "\n",
    "# Plot the PDF.\n",
    "\"\"\"\n",
    "for d in (data1, data2):\n",
    "    mu, std = norm.fit(d)\n",
    "    xmin, xmax = plt.xlim()\n",
    "    x = np.linspace(xmin, xmax, 100)\n",
    "    p = norm.pdf(x, mu, std)\n",
    "    plt.plot(x, p, 'k', linewidth=2)\n",
    "\"\"\"\n",
    "plt.show()"
   ]
  },
  {
   "cell_type": "code",
   "execution_count": 11,
   "metadata": {},
   "outputs": [
    {
     "data": {
      "text/plain": [
       "Ttest_indResult(statistic=-17.361357503835816, pvalue=4.2993811257964926e-63)"
      ]
     },
     "execution_count": 11,
     "metadata": {},
     "output_type": "execute_result"
    }
   ],
   "source": [
    "ttest_ind(data1, data2)"
   ]
  },
  {
   "cell_type": "code",
   "execution_count": null,
   "metadata": {},
   "outputs": [],
   "source": []
  }
 ],
 "metadata": {
  "kernelspec": {
   "display_name": "Python 3.8.5 64-bit ('venv')",
   "language": "python",
   "name": "python38564bitvenv9344e69c63da4d7d91688f7d5dc25e31"
  },
  "language_info": {
   "codemirror_mode": {
    "name": "ipython",
    "version": 3
   },
   "file_extension": ".py",
   "mimetype": "text/x-python",
   "name": "python",
   "nbconvert_exporter": "python",
   "pygments_lexer": "ipython3",
   "version": "3.8.5"
  }
 },
 "nbformat": 4,
 "nbformat_minor": 4
}
