{
 "cells": [
  {
   "cell_type": "code",
   "execution_count": 1,
   "metadata": {},
   "outputs": [],
   "source": [
    "from torch.utils.data import DataLoader\n",
    "from attrbench.lib import PixelMaskingPolicy\n",
    "from attrbench.evaluation import independent\n",
    "from experiments.lib.util import get_ds_model, get_methods, get_n_pixels\n",
    "from experiments.lib import attribution\n",
    "import torch\n",
    "from tqdm import tqdm, trange\n",
    "import numpy as np\n",
    "import matplotlib.pyplot as plt\n",
    "from scipy.stats import norm\n",
    "from captum import attr"
   ]
  },
  {
   "cell_type": "code",
   "execution_count": 2,
   "metadata": {},
   "outputs": [],
   "source": [
    "ds_name = \"MNIST\"\n",
    "model_name = \"CNN\"\n",
    "device = \"cuda\"\n",
    "pmp = PixelMaskingPolicy(0.)\n",
    "dataset, model = get_ds_model(ds_name, model_name)\n",
    "model.to(device)\n",
    "model.eval()\n",
    "dl = DataLoader(dataset, batch_size=128, shuffle=True, num_workers=4)\n",
    "rand = attribution.PixelAggregation(attribution.Random(), \"avg\")\n",
    "\n",
    "n_pixels = get_n_pixels(ds_name)\n",
    "step_size = int(0.02 * n_pixels)\n",
    "mask_range = [step_size * i for i in range(25)]\n",
    "pert_range = list(np.linspace(.01, 2., 20))"
   ]
  },
  {
   "cell_type": "code",
   "execution_count": 3,
   "metadata": {},
   "outputs": [
    {
     "name": "stderr",
     "output_type": "stream",
     "text": [
      "  0%|          | 0/79 [00:00<?, ?it/s]/home/arne/Documents/PhD/projects/benchmark/venv/lib/python3.8/site-packages/captum/attr/_utils/gradient.py:31: UserWarning: Input Tensor 0 did not already require gradients, required_grads has been set automatically.\n",
      "  warnings.warn(\n",
      "100%|██████████| 79/79 [06:07<00:00,  4.66s/it]\n"
     ]
    }
   ],
   "source": [
    "correctly_classified = []\n",
    "infidelity = []\n",
    "insertion = []\n",
    "deletion = []\n",
    "deletion_until_flip = []\n",
    "ixg = attr.InputXGradient(model)\n",
    "method = attribution.PixelAggregation(ixg.attribute, \"avg\")\n",
    "#infid_method = attribution.DimReplication(method, 1, 3)\n",
    "infid_method = method\n",
    "for samples, labels in tqdm(dl):\n",
    "    samples = samples.to(device)\n",
    "    labels = labels.to(device)\n",
    "    with torch.no_grad():\n",
    "        out = model(samples)\n",
    "    predictions = torch.argmax(out, dim=1)\n",
    "    correctly_classified.append((predictions == labels).cpu().detach().numpy())\n",
    "    infidelity.append(independent.infidelity(samples, predictions, model, infid_method, perturbation_range=pert_range, num_perturbations=16).cpu().detach().numpy())\n",
    "    insertion.append(independent.insertion_deletion(samples, predictions, model, method, mask_range, pmp, mode=\"insertion\").cpu().detach().numpy())\n",
    "    deletion.append(independent.insertion_deletion(samples, predictions, model, method, mask_range, pmp, mode=\"deletion\").cpu().detach().numpy())\n",
    "    deletion_until_flip.append(independent.deletion_until_flip(samples, predictions, model, method, pmp, step_size=.01).cpu().detach().numpy())"
   ]
  },
  {
   "cell_type": "code",
   "execution_count": 18,
   "metadata": {},
   "outputs": [],
   "source": [
    "cc = np.concatenate(correctly_classified)"
   ]
  },
  {
   "cell_type": "code",
   "execution_count": 20,
   "metadata": {},
   "outputs": [
    {
     "data": {
      "text/plain": [
       "9883"
      ]
     },
     "execution_count": 20,
     "metadata": {},
     "output_type": "execute_result"
    }
   ],
   "source": [
    "cc.sum()"
   ]
  },
  {
   "cell_type": "code",
   "execution_count": 26,
   "metadata": {},
   "outputs": [],
   "source": [
    "infid_cc = np.concatenate(infidelity)[cc]\n",
    "infid_ncc = np.concatenate(infidelity)[~cc]"
   ]
  },
  {
   "cell_type": "code",
   "execution_count": 30,
   "metadata": {},
   "outputs": [
    {
     "data": {
      "image/png": "[encoded data removed]",
      "text/plain": [
       "<Figure size 432x288 with 1 Axes>"
      ]
     },
     "metadata": {
      "needs_background": "light"
     },
     "output_type": "display_data"
    }
   ],
   "source": [
    "plt.hist(infid_cc.mean(axis=1).flatten(), bins=50, density=True, alpha=0.6)\n",
    "pass"
   ]
  },
  {
   "cell_type": "code",
   "execution_count": 31,
   "metadata": {},
   "outputs": [
    {
     "data": {
      "image/png": "[encoded data removed]",
      "text/plain": [
       "<Figure size 432x288 with 1 Axes>"
      ]
     },
     "metadata": {
      "needs_background": "light"
     },
     "output_type": "display_data"
    }
   ],
   "source": [
    "plt.hist(infid_ncc.mean(axis=1).flatten(), bins=50, density=True, alpha=0.6)\n",
    "pass"
   ]
  },
  {
   "cell_type": "code",
   "execution_count": 55,
   "metadata": {},
   "outputs": [
    {
     "data": {
      "image/png": "[encoded data removed]",
      "text/plain": [
       "<Figure size 432x288 with 1 Axes>"
      ]
     },
     "metadata": {
      "needs_background": "light"
     },
     "output_type": "display_data"
    }
   ],
   "source": [
    "def plot_hists(data, cc):\n",
    "    plt.hist(data[cc].mean(axis=1).flatten(), bins=50, density=True, alpha=0.6)\n",
    "    plt.hist(data[~cc].mean(axis=1).flatten(), bins=50, density=True, alpha=0.6)\n",
    "plot_hists(np.concatenate(infidelity), cc)"
   ]
  },
  {
   "cell_type": "code",
   "execution_count": 46,
   "metadata": {},
   "outputs": [
    {
     "data": {
      "text/plain": [
       "(10000, 1)"
      ]
     },
     "execution_count": 46,
     "metadata": {},
     "output_type": "execute_result"
    }
   ],
   "source": [
    "np.concatenate(deletion_until_flip).reshape(-1, 1).shape"
   ]
  },
  {
   "cell_type": "code",
   "execution_count": null,
   "metadata": {},
   "outputs": [],
   "source": []
  }
 ],
 "metadata": {
  "kernelspec": {
   "display_name": "Python 3.8.5 64-bit ('venv': venv)",
   "language": "python",
   "name": "python38564bitvenvvenva379bf2a65574ecaa36bb4575e309b83"
  },
  "language_info": {
   "codemirror_mode": {
    "name": "ipython",
    "version": 3
   },
   "file_extension": ".py",
   "mimetype": "text/x-python",
   "name": "python",
   "nbconvert_exporter": "python",
   "pygments_lexer": "ipython3",
   "version": "3.8.5"
  }
 },
 "nbformat": 4,
 "nbformat_minor": 4
}
