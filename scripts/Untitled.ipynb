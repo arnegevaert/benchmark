{
 "cells": [
  {
   "cell_type": "code",
   "execution_count": 14,
   "metadata": {},
   "outputs": [],
   "source": [
    "from attrbench.suite import SuiteResult\n",
    "import numpy as np"
   ]
  },
  {
   "cell_type": "code",
   "execution_count": 15,
   "metadata": {},
   "outputs": [],
   "source": [
    "res = SuiteResult.load_hdf(\"../out/baseline_imagenet_resnet18.h5\")"
   ]
  },
  {
   "cell_type": "code",
   "execution_count": 26,
   "metadata": {},
   "outputs": [
    {
     "data": {
      "text/plain": [
       "array([ 4.5061855,  6.382145 ,  1.7999015,  9.563059 ,  4.231083 ,\n",
       "        1.768219 ,  0.9115217,  3.9524143,  4.3354087,  4.458559 ,\n",
       "        4.617554 ,  3.0506158,  3.4557302,  2.1142063,  0.8265963,\n",
       "       11.076953 , 13.1080065,  3.6374524,  4.884629 ,  3.7871685,\n",
       "        1.0383652,  3.3632379,  4.176108 ,  3.7496457,  1.9264288,\n",
       "        3.4553614,  7.6776996,  7.6278167,  5.1039505,  1.8149494,\n",
       "        9.377988 ,  4.2939873], dtype=float32)"
      ]
     },
     "execution_count": 26,
     "metadata": {},
     "output_type": "execute_result"
    }
   ],
   "source": [
    "agg = np.trapz(res.metric_results[\"insertion\"].baseline_data[\"constant\"][\"linear\"], axis=-1)\n",
    "np.var(agg, axis=1)"
   ]
  },
  {
   "cell_type": "code",
   "execution_count": 22,
   "metadata": {},
   "outputs": [
    {
     "data": {
      "text/plain": [
       "array([ 3.9994035 ,  2.771091  ,  1.8310546 ,  6.8910847 ,  6.448994  ,\n",
       "        1.9080724 ,  1.3087279 ,  2.9286742 ,  2.2341835 ,  5.1328435 ,\n",
       "        3.5757842 ,  4.5399656 ,  5.7123237 ,  2.1674323 ,  0.5475522 ,\n",
       "        4.462027  , 16.594463  ,  3.2627943 ,  3.6875226 ,  4.897101  ,\n",
       "        0.95588624,  3.148711  ,  5.1889167 ,  5.2016225 ,  1.8986747 ,\n",
       "        2.807589  ,  5.581597  ,  9.50906   ,  5.579967  ,  1.7087772 ,\n",
       "        7.894557  ,  5.763006  ], dtype=float32)"
      ]
     },
     "execution_count": 22,
     "metadata": {},
     "output_type": "execute_result"
    }
   ],
   "source": []
  },
  {
   "cell_type": "code",
   "execution_count": null,
   "metadata": {},
   "outputs": [],
   "source": []
  }
 ],
 "metadata": {
  "kernelspec": {
   "display_name": "Python 3",
   "language": "python",
   "name": "python3"
  },
  "language_info": {
   "codemirror_mode": {
    "name": "ipython",
    "version": 3
   },
   "file_extension": ".py",
   "mimetype": "text/x-python",
   "name": "python",
   "nbconvert_exporter": "python",
   "pygments_lexer": "ipython3",
   "version": "3.8.5"
  }
 },
 "nbformat": 4,
 "nbformat_minor": 4
}
