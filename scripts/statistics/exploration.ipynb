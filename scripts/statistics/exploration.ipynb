{
 "cells": [
  {
   "cell_type": "code",
   "execution_count": 1,
   "metadata": {},
   "outputs": [],
   "source": [
    "from attrbench.suite import SuiteResult"
   ]
  },
  {
   "cell_type": "code",
   "execution_count": 2,
   "metadata": {},
   "outputs": [],
   "source": [
    "res = SuiteResult.load_hdf(\"../../out/ImageNet_resnet18.h5\")"
   ]
  },
  {
   "cell_type": "code",
   "execution_count": 3,
   "metadata": {},
   "outputs": [
    {
     "data": {
      "text/plain": [
       "{'infidelity_gaussian': <attrbench.metrics.infidelity.result.InfidelityResult at 0x7fd34b8b6a60>,\n",
       " 'infidelity_seg': <attrbench.metrics.infidelity.result.InfidelityResult at 0x7fd34b8b6bb0>,\n",
       " 'infidelity_sq': <attrbench.metrics.infidelity.result.InfidelityResult at 0x7fd34b8b65e0>,\n",
       " 'masker_blur.deletion': <attrbench.metrics.insertion_deletion.result.DeletionResult at 0x7fd34b8b6a30>,\n",
       " 'masker_blur.deletion_until_flip': <attrbench.metrics.deletion_until_flip.result.DeletionUntilFlipResult at 0x7fd34b9236a0>,\n",
       " 'masker_blur.iiof': <attrbench.metrics.insertion_deletion.result.IiofResult at 0x7fd34b8b6ee0>,\n",
       " 'masker_blur.insertion': <attrbench.metrics.insertion_deletion.result.InsertionResult at 0x7fd34abb7c70>,\n",
       " 'masker_blur.irof': <attrbench.metrics.insertion_deletion.result.IrofResult at 0x7fd34b8b68b0>,\n",
       " 'masker_blur.seg_sensitivity_n': <attrbench.metrics.sensitivity_n.result.SegSensitivityNResult at 0x7fd34b8b65b0>,\n",
       " 'masker_blur.sensitivity_n': <attrbench.metrics.sensitivity_n.result.SensitivityNResult at 0x7fd34b8b6550>,\n",
       " 'masker_constant.deletion': <attrbench.metrics.insertion_deletion.result.DeletionResult at 0x7fd34b8b6520>,\n",
       " 'masker_constant.deletion_until_flip': <attrbench.metrics.deletion_until_flip.result.DeletionUntilFlipResult at 0x7fd34b8b6fa0>,\n",
       " 'masker_constant.iiof': <attrbench.metrics.insertion_deletion.result.IiofResult at 0x7fd34b9233d0>,\n",
       " 'masker_constant.insertion': <attrbench.metrics.insertion_deletion.result.InsertionResult at 0x7fd34b923280>,\n",
       " 'masker_constant.irof': <attrbench.metrics.insertion_deletion.result.IrofResult at 0x7fd34b89abe0>,\n",
       " 'masker_constant.seg_sensitivity_n': <attrbench.metrics.sensitivity_n.result.SegSensitivityNResult at 0x7fd3f43d0220>,\n",
       " 'masker_constant.sensitivity_n': <attrbench.metrics.sensitivity_n.result.SensitivityNResult at 0x7fd34b89adf0>,\n",
       " 'masker_random.deletion': <attrbench.metrics.insertion_deletion.result.DeletionResult at 0x7fd34b89ad90>,\n",
       " 'masker_random.deletion_until_flip': <attrbench.metrics.deletion_until_flip.result.DeletionUntilFlipResult at 0x7fd34b8b6370>,\n",
       " 'masker_random.iiof': <attrbench.metrics.insertion_deletion.result.IiofResult at 0x7fd34b89aca0>,\n",
       " 'masker_random.insertion': <attrbench.metrics.insertion_deletion.result.InsertionResult at 0x7fd34b89afd0>,\n",
       " 'masker_random.irof': <attrbench.metrics.insertion_deletion.result.IrofResult at 0x7fd34b89a8b0>,\n",
       " 'masker_random.seg_sensitivity_n': <attrbench.metrics.sensitivity_n.result.SegSensitivityNResult at 0x7fd34b89ae20>,\n",
       " 'masker_random.sensitivity_n': <attrbench.metrics.sensitivity_n.result.SensitivityNResult at 0x7fd34b89aeb0>}"
      ]
     },
     "execution_count": 3,
     "metadata": {},
     "output_type": "execute_result"
    }
   ],
   "source": [
    "res.metric_results"
   ]
  },
  {
   "cell_type": "code",
   "execution_count": null,
   "metadata": {},
   "outputs": [],
   "source": []
  }
 ],
 "metadata": {
  "kernelspec": {
   "display_name": "Python 3",
   "language": "python",
   "name": "python3"
  },
  "language_info": {
   "codemirror_mode": {
    "name": "ipython",
    "version": 3
   },
   "file_extension": ".py",
   "mimetype": "text/x-python",
   "name": "python",
   "nbconvert_exporter": "python",
   "pygments_lexer": "ipython3",
   "version": "3.8.5"
  }
 },
 "nbformat": 4,
 "nbformat_minor": 4
}
