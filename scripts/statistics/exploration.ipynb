{
 "cells": [
  {
   "cell_type": "code",
   "execution_count": 1,
   "metadata": {},
   "outputs": [],
   "source": [
    "from attrbench.suite import SuiteResult\n",
    "import seaborn as sns\n",
    "import matplotlib.pyplot as plt\n",
    "import numpy as np\n",
    "import util"
   ]
  },
  {
   "cell_type": "code",
   "execution_count": 2,
   "metadata": {},
   "outputs": [
    {
     "ename": "ValueError",
     "evalue": "File ../../out/MNIST_resnet18.h5 does not exist",
     "output_type": "error",
     "traceback": [
      "\u001b[0;31m---------------------------------------------------------------------------\u001b[0m",
      "\u001b[0;31mValueError\u001b[0m                                Traceback (most recent call last)",
      "\u001b[0;32m<ipython-input-2-ef0ebd80ce92>\u001b[0m in \u001b[0;36m<module>\u001b[0;34m\u001b[0m\n\u001b[1;32m      1\u001b[0m \u001b[0mDATASET\u001b[0m \u001b[0;34m=\u001b[0m \u001b[0;34m\"MNIST\"\u001b[0m\u001b[0;34m\u001b[0m\u001b[0;34m\u001b[0m\u001b[0m\n\u001b[1;32m      2\u001b[0m \u001b[0mignore_methods\u001b[0m \u001b[0;34m=\u001b[0m \u001b[0;34m[\u001b[0m\u001b[0;34m\"GradCAM_no_relu\"\u001b[0m\u001b[0;34m,\u001b[0m \u001b[0;34m\"GuidedGradCAM_no_relu\"\u001b[0m\u001b[0;34m]\u001b[0m\u001b[0;34m\u001b[0m\u001b[0;34m\u001b[0m\u001b[0m\n\u001b[0;32m----> 3\u001b[0;31m \u001b[0mres\u001b[0m \u001b[0;34m=\u001b[0m \u001b[0mSuiteResult\u001b[0m\u001b[0;34m.\u001b[0m\u001b[0mload_hdf\u001b[0m\u001b[0;34m(\u001b[0m\u001b[0;34mf\"../../out/{DATASET}_resnet18.h5\"\u001b[0m\u001b[0;34m)\u001b[0m\u001b[0;34m\u001b[0m\u001b[0;34m\u001b[0m\u001b[0m\n\u001b[0m\u001b[1;32m      4\u001b[0m \u001b[0mprint\u001b[0m\u001b[0;34m(\u001b[0m\u001b[0;34m\"\\n\"\u001b[0m\u001b[0;34m.\u001b[0m\u001b[0mjoin\u001b[0m\u001b[0;34m(\u001b[0m\u001b[0mlist\u001b[0m\u001b[0;34m(\u001b[0m\u001b[0mres\u001b[0m\u001b[0;34m.\u001b[0m\u001b[0mmetric_results\u001b[0m\u001b[0;34m.\u001b[0m\u001b[0mkeys\u001b[0m\u001b[0;34m(\u001b[0m\u001b[0;34m)\u001b[0m\u001b[0;34m)\u001b[0m\u001b[0;34m)\u001b[0m\u001b[0;34m)\u001b[0m\u001b[0;34m\u001b[0m\u001b[0;34m\u001b[0m\u001b[0m\n",
      "\u001b[0;32m~/Documents/PhD/projects/benchmark/attrbench/suite/suite_result.py\u001b[0m in \u001b[0;36mload_hdf\u001b[0;34m(filename)\u001b[0m\n\u001b[1;32m     67\u001b[0m                 \u001b[0;32mreturn\u001b[0m \u001b[0mSuiteResult\u001b[0m\u001b[0;34m(\u001b[0m\u001b[0mmetric_results\u001b[0m\u001b[0;34m,\u001b[0m \u001b[0mnum_samples\u001b[0m\u001b[0;34m,\u001b[0m \u001b[0mseed\u001b[0m\u001b[0;34m,\u001b[0m \u001b[0mimages\u001b[0m\u001b[0;34m,\u001b[0m \u001b[0mattributions\u001b[0m\u001b[0;34m)\u001b[0m\u001b[0;34m\u001b[0m\u001b[0;34m\u001b[0m\u001b[0m\n\u001b[1;32m     68\u001b[0m         \u001b[0;32melse\u001b[0m\u001b[0;34m:\u001b[0m\u001b[0;34m\u001b[0m\u001b[0;34m\u001b[0m\u001b[0m\n\u001b[0;32m---> 69\u001b[0;31m             \u001b[0;32mraise\u001b[0m \u001b[0mValueError\u001b[0m\u001b[0;34m(\u001b[0m\u001b[0;34mf\"File {filename} does not exist\"\u001b[0m\u001b[0;34m)\u001b[0m\u001b[0;34m\u001b[0m\u001b[0;34m\u001b[0m\u001b[0m\n\u001b[0m",
      "\u001b[0;31mValueError\u001b[0m: File ../../out/MNIST_resnet18.h5 does not exist"
     ]
    }
   ],
   "source": [
    "DATASET = \"Places365\"\n",
    "ignore_methods = [\"GradCAM_no_relu\", \"GuidedGradCAM_no_relu\"]\n",
    "res = SuiteResult.load_hdf(f\"../../out/{DATASET}_resnet18.h5\")\n",
    "print(\"\\n\".join(list(res.metric_results.keys())))"
   ]
  },
  {
   "cell_type": "markdown",
   "metadata": {},
   "source": [
    "# Infidelity: MSE"
   ]
  },
  {
   "cell_type": "code",
   "execution_count": null,
   "metadata": {},
   "outputs": [],
   "source": [
    "infid_names = (\"infidelity_gaussian\", \"infidelity_sq\", \"infidelity_seg\")\n",
    "res = SuiteResult.load_hdf(f\"../../out/{DATASET}_resnet18.h5\")\n",
    "util.boxplot_grid(res, infid_names, \"mse\", activations=(\"linear\",), ignore_methods=ignore_methods, log=True)"
   ]
  },
  {
   "cell_type": "code",
   "execution_count": null,
   "metadata": {},
   "outputs": [],
   "source": [
    "res = SuiteResult.load_hdf(f\"../../out/{DATASET}_resnet50.h5\")\n",
    "util.boxplot_grid(res, infid_names, \"mse\", activations=(\"linear\",), ignore_methods=ignore_methods, log=True)"
   ]
  },
  {
   "cell_type": "markdown",
   "metadata": {},
   "source": [
    "# Infidelity: Correlation"
   ]
  },
  {
   "cell_type": "code",
   "execution_count": null,
   "metadata": {},
   "outputs": [],
   "source": [
    "res = SuiteResult.load_hdf(f\"../../out/{DATASET}_resnet50.h5\")\n",
    "util.boxplot_grid(res, infid_names, \"corr\", activations=(\"linear\",), ignore_methods=ignore_methods, log=False)"
   ]
  },
  {
   "cell_type": "markdown",
   "metadata": {},
   "source": [
    "# Insertion/Deletion"
   ]
  },
  {
   "cell_type": "code",
   "execution_count": null,
   "metadata": {},
   "outputs": [],
   "source": [
    "del_names = (\"masker_blur.deletion\", \"masker_constant.deletion\", \"masker_random.deletion\")\n",
    "res = SuiteResult.load_hdf(f\"../../out/{DATASET}_resnet50.h5\")\n",
    "util.boxplot_grid(res, del_names, \"morf\", activations=(\"linear\", \"softmax\"), ignore_methods=ignore_methods, log=False)"
   ]
  },
  {
   "cell_type": "code",
   "execution_count": null,
   "metadata": {},
   "outputs": [],
   "source": [
    "res = SuiteResult.load_hdf(f\"../../out/{DATASET}_resnet18.h5\")\n",
    "util.boxplot_grid(res, del_names, \"morf\", activations=(\"linear\", \"softmax\"), ignore_methods=ignore_methods, log=False)"
   ]
  },
  {
   "cell_type": "code",
   "execution_count": null,
   "metadata": {},
   "outputs": [],
   "source": [
    "ins_names = (\"masker_blur.insertion\", \"masker_constant.insertion\", \"masker_random.insertion\")\n",
    "res = SuiteResult.load_hdf(f\"../../out/{DATASET}_resnet18.h5\")\n",
    "util.boxplot_grid(res, ins_names, \"morf\", activations=(\"linear\", \"softmax\"), ignore_methods=ignore_methods, log=False)"
   ]
  },
  {
   "cell_type": "code",
   "execution_count": null,
   "metadata": {},
   "outputs": [],
   "source": [
    "res = SuiteResult.load_hdf(f\"../../out/{DATASET}_resnet50.h5\")\n",
    "util.boxplot_grid(res, ins_names, \"morf\", activations=(\"linear\", \"softmax\"), ignore_methods=ignore_methods, log=False)"
   ]
  },
  {
   "cell_type": "markdown",
   "metadata": {},
   "source": [
    "# Deletion until flip"
   ]
  },
  {
   "cell_type": "code",
   "execution_count": null,
   "metadata": {},
   "outputs": [],
   "source": [
    "del_flip_names = (\"masker_blur.deletion_until_flip\", \"masker_constant.deletion_until_flip\", \"masker_random.deletion_until_flip\")\n",
    "res = SuiteResult.load_hdf(f\"../../out/{DATASET}_resnet18.h5\")\n",
    "util.boxplot_grid(res, del_flip_names, variant=None, activations=(None,), ignore_methods=ignore_methods, log=False)"
   ]
  },
  {
   "cell_type": "code",
   "execution_count": null,
   "metadata": {},
   "outputs": [],
   "source": [
    "res = SuiteResult.load_hdf(f\"../../out/{DATASET}_resnet50.h5\")\n",
    "util.boxplot_grid(res, del_flip_names, variant=None, activations=(None,), ignore_methods=ignore_methods, log=False)"
   ]
  },
  {
   "cell_type": "markdown",
   "metadata": {},
   "source": [
    "# Sensitivity-n"
   ]
  },
  {
   "cell_type": "code",
   "execution_count": null,
   "metadata": {},
   "outputs": [],
   "source": [
    "sens_n_names = (\"masker_blur.sensitivity_n\", \"masker_constant.sensitivity_n\", \"masker_random.sensitivity_n\")\n",
    "res = SuiteResult.load_hdf(f\"../../out/{DATASET}_resnet18.h5\")\n",
    "util.boxplot_grid(res, sens_n_names, variant=None, activations=(\"linear\", \"softmax\"), ignore_methods=ignore_methods, log=False)"
   ]
  },
  {
   "cell_type": "code",
   "execution_count": null,
   "metadata": {},
   "outputs": [],
   "source": [
    "seg_sens_n_names = (\"masker_blur.seg_sensitivity_n\", \"masker_constant.seg_sensitivity_n\", \"masker_random.seg_sensitivity_n\")\n",
    "res = SuiteResult.load_hdf(f\"../../out/{DATASET}_resnet18.h5\")\n",
    "util.boxplot_grid(res, seg_sens_n_names, variant=None, activations=(\"linear\", \"softmax\"), ignore_methods=ignore_methods, log=False)"
   ]
  },
  {
   "cell_type": "code",
   "execution_count": null,
   "metadata": {},
   "outputs": [],
   "source": [
    "seg_sens_n_names = (\"masker_blur.seg_sensitivity_n\", \"masker_constant.seg_sensitivity_n\", \"masker_random.seg_sensitivity_n\")\n",
    "res = SuiteResult.load_hdf(f\"../../out/{DATASET}_resnet50.h5\")\n",
    "util.boxplot_grid(res, seg_sens_n_names, variant=None, activations=(\"linear\", \"softmax\"), ignore_methods=ignore_methods, log=False)"
   ]
  },
  {
   "cell_type": "markdown",
   "metadata": {},
   "source": [
    "# IROF/IIOF"
   ]
  },
  {
   "cell_type": "code",
   "execution_count": null,
   "metadata": {},
   "outputs": [],
   "source": [
    "irof_names = (\"masker_blur.irof\", \"masker_constant.irof\", \"masker_random.irof\")\n",
    "res = SuiteResult.load_hdf(f\"../../out/{DATASET}_resnet50.h5\")\n",
    "util.boxplot_grid(res, irof_names, variant=\"morf\", activations=(\"linear\", \"softmax\"), ignore_methods=ignore_methods, log=False)"
   ]
  },
  {
   "cell_type": "code",
   "execution_count": null,
   "metadata": {},
   "outputs": [],
   "source": []
  }
 ],
 "metadata": {
  "kernelspec": {
   "display_name": "Python 3",
   "language": "python",
   "name": "python3"
  },
  "language_info": {
   "codemirror_mode": {
    "name": "ipython",
    "version": 3
   },
   "file_extension": ".py",
   "mimetype": "text/x-python",
   "name": "python",
   "nbconvert_exporter": "python",
   "pygments_lexer": "ipython3",
   "version": "3.8.5"
  }
 },
 "nbformat": 4,
 "nbformat_minor": 4
}
