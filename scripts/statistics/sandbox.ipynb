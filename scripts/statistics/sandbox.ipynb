{
 "cells": [
  {
   "cell_type": "code",
   "execution_count": 1,
   "metadata": {
    "collapsed": true
   },
   "outputs": [],
   "source": [
    "from attrbench.suite import SuiteResult\n",
    "from scripts.statistics.df_extractor import DFExtractor\n",
    "from scripts.statistics import correlation, clustering, wilcoxon, krippendorff, boxplot"
   ]
  },
  {
   "cell_type": "code",
   "execution_count": 2,
   "outputs": [],
   "source": [
    "RES_OBJ = SuiteResult.load_hdf(\"../../out/Caltech256_resnet18.h5\")\n",
    "EXCLUDE = [\"Random_pos_only\", \"GradCAM_no_relu\", \"GuidedGradCAM_no_relu\"]"
   ],
   "metadata": {
    "collapsed": false,
    "pycharm": {
     "name": "#%%\n"
    }
   }
  },
  {
   "cell_type": "code",
   "execution_count": 3,
   "outputs": [],
   "source": [
    "dfe = DFExtractor(RES_OBJ, EXCLUDE)\n",
    "dfe.add_infidelity(\"mse\", \"linear\")\n",
    "dfe.add_infidelity(\"mse\", \"softmax\")\n",
    "dfe.compare_activations([\"linear\", \"softmax\"], \"constant\")\n",
    "krippendorff(dfe, \"Random\", \"krip.png\")\n"
   ],
   "metadata": {
    "collapsed": false,
    "pycharm": {
     "name": "#%%\n"
    }
   }
  },
  {
   "cell_type": "code",
   "execution_count": 7,
   "outputs": [],
   "source": [
    "dfe = DFExtractor(RES_OBJ, EXCLUDE)\n",
    "dfe.compare_maskers([\"constant\", \"random\", \"blur\"], \"softmax\", metric_group=\"deletion\")\n",
    "boxplot(dfe, \"box.png\")"
   ],
   "metadata": {
    "collapsed": false,
    "pycharm": {
     "name": "#%%\n"
    }
   }
  }
 ],
 "metadata": {
  "kernelspec": {
   "display_name": "Python 3",
   "language": "python",
   "name": "python3"
  },
  "language_info": {
   "codemirror_mode": {
    "name": "ipython",
    "version": 2
   },
   "file_extension": ".py",
   "mimetype": "text/x-python",
   "name": "python",
   "nbconvert_exporter": "python",
   "pygments_lexer": "ipython2",
   "version": "2.7.6"
  }
 },
 "nbformat": 4,
 "nbformat_minor": 0
}